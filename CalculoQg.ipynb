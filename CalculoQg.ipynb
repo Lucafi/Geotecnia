{
 "cells": [
  {
   "cell_type": "markdown",
   "metadata": {},
   "source": [
    "## Cálculo de $Q_g$\n",
    "$$Q_g=\\left( \\frac{M_s-M_i}{M_s}\\right) 100 \\ \\ \\ \\ \\textrm{(2)}$$"
   ]
  },
  {
   "cell_type": "markdown",
   "metadata": {},
   "source": []
  },
  {
   "cell_type": "code",
   "execution_count": 1,
   "metadata": {},
   "outputs": [],
   "source": [
    "import numpy as np"
   ]
  },
  {
   "cell_type": "code",
   "execution_count": 2,
   "metadata": {},
   "outputs": [
    {
     "name": "stdout",
     "output_type": "stream",
     "text": [
      "entre com valor de Ms:  757.5\n"
     ]
    }
   ],
   "source": [
    "mh=float(input(\"entre com valor de Ms:  \"))"
   ]
  },
  {
   "cell_type": "code",
   "execution_count": 19,
   "metadata": {},
   "outputs": [
    {
     "name": "stdout",
     "output_type": "stream",
     "text": [
      "Entre com o número de peneiras com massas retidas: 5\n",
      "Entre com a massa retida: 45.1\n",
      "Entre com a massa retida: 52.6\n",
      "Entre com a massa retida: 75.2\n",
      "Entre com a massa retida: 165.4\n",
      "Entre com a massa retida: 391\n",
      "[45.1, 52.6, 75.2, 165.4, 391.0]\n"
     ]
    }
   ],
   "source": [
    "n= int(input(\"Entre com o número de peneiras com massas retidas: \"))\n",
    "mi=[]\n",
    "for i in range(n):\n",
    "        bateria=float(input('Entre com a massa retida: '))\n",
    "        mi.append(bateria)\n",
    "print(mi)"
   ]
  },
  {
   "cell_type": "code",
   "execution_count": 20,
   "metadata": {},
   "outputs": [],
   "source": [
    "mi=np.array(mi)"
   ]
  },
  {
   "cell_type": "code",
   "execution_count": 21,
   "metadata": {},
   "outputs": [
    {
     "name": "stdout",
     "output_type": "stream",
     "text": [
      "[94.05 93.06 90.07 78.17 48.38]\n"
     ]
    }
   ],
   "source": [
    "Qg=((mh-mi)/mh)*100\n",
    "np.set_printoptions(precision=2)\n",
    "print(Qg)\n"
   ]
  }
 ],
 "metadata": {
  "kernelspec": {
   "display_name": "Python 3",
   "language": "python",
   "name": "python3"
  },
  "language_info": {
   "codemirror_mode": {
    "name": "ipython",
    "version": 3
   },
   "file_extension": ".py",
   "mimetype": "text/x-python",
   "name": "python",
   "nbconvert_exporter": "python",
   "pygments_lexer": "ipython3",
   "version": "3.7.4"
  }
 },
 "nbformat": 4,
 "nbformat_minor": 4
}
