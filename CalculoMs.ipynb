{
 "cells": [
  {
   "cell_type": "markdown",
   "metadata": {},
   "source": [
    "Cálculo da Massa Seca ($M_s$)\n",
    "$$M_s=\\frac{M_t-M_g} {1+ w_h }+M_s  \\ \\ \\ \\ \\textrm{(1)}$$"
   ]
  },
  {
   "cell_type": "code",
   "execution_count": 3,
   "metadata": {},
   "outputs": [],
   "source": [
    "import numpy as np"
   ]
  },
  {
   "cell_type": "code",
   "execution_count": 6,
   "metadata": {},
   "outputs": [
    {
     "name": "stdout",
     "output_type": "stream",
     "text": [
      "Entre com valor de massa total: 766.66\n"
     ]
    }
   ],
   "source": [
    "mt=float(input('Entre com valor em gramas de massa total: '))"
   ]
  },
  {
   "cell_type": "code",
   "execution_count": 7,
   "metadata": {},
   "outputs": [
    {
     "name": "stdout",
     "output_type": "stream",
     "text": [
      "Entre com o material retido na peneira 10: 391\n"
     ]
    }
   ],
   "source": [
    "mg=float(input('Entre com o valor em gramas do material retido na peneira 10: '))"
   ]
  },
  {
   "cell_type": "code",
   "execution_count": 8,
   "metadata": {},
   "outputs": [
    {
     "name": "stdout",
     "output_type": "stream",
     "text": [
      "Entre com valor da umidade higroscópica: 0.025\n"
     ]
    }
   ],
   "source": [
    "wh=float(input('Entre com valor da umidade higroscópica: '))"
   ]
  },
  {
   "cell_type": "code",
   "execution_count": 9,
   "metadata": {},
   "outputs": [
    {
     "name": "stdout",
     "output_type": "stream",
     "text": [
      "A massa seca é 757.50 g\n"
     ]
    }
   ],
   "source": [
    "Ms=((mt-mg)/(1+wh))+mg\n",
    "\n",
    "print(\"A massa seca é %4.2f\" %Ms,\"g\")"
   ]
  },
  {
   "cell_type": "code",
   "execution_count": null,
   "metadata": {},
   "outputs": [],
   "source": []
  }
 ],
 "metadata": {
  "kernelspec": {
   "display_name": "Python 3",
   "language": "python",
   "name": "python3"
  },
  "language_info": {
   "codemirror_mode": {
    "name": "ipython",
    "version": 3
   },
   "file_extension": ".py",
   "mimetype": "text/x-python",
   "name": "python",
   "nbconvert_exporter": "python",
   "pygments_lexer": "ipython3",
   "version": "3.7.4"
  }
 },
 "nbformat": 4,
 "nbformat_minor": 4
}
