{
 "cells": [
  {
   "cell_type": "markdown",
   "metadata": {},
   "source": [
    "## Fórmula de $Q_f$\n",
    "$$Q_f= \\left(\\frac{\\frac{M_h}{1+w_h}-M_i}{\\frac{M_h}{1+w_h}}\\right)\\times N \\ \\ \\ \\ \\textrm{(3)}$$"
   ]
  },
  {
   "cell_type": "code",
   "execution_count": 17,
   "metadata": {},
   "outputs": [],
   "source": [
    "import numpy as np"
   ]
  },
  {
   "cell_type": "code",
   "execution_count": 18,
   "metadata": {},
   "outputs": [
    {
     "name": "stdout",
     "output_type": "stream",
     "text": [
      "entre com valor de Mh:  133.25\n"
     ]
    }
   ],
   "source": [
    "mh=float(input(\"entre com valor de Mh:  \"))"
   ]
  },
  {
   "cell_type": "code",
   "execution_count": 19,
   "metadata": {},
   "outputs": [
    {
     "name": "stdout",
     "output_type": "stream",
     "text": [
      "Entre com valor de wh: 0.025\n"
     ]
    }
   ],
   "source": [
    "wh=float(input(\"Entre com valor de wh: \"))"
   ]
  },
  {
   "cell_type": "code",
   "execution_count": 20,
   "metadata": {},
   "outputs": [
    {
     "name": "stdout",
     "output_type": "stream",
     "text": [
      "Entre com valor de N: 48.4\n"
     ]
    }
   ],
   "source": [
    "N=float(input(\"Entre com valor de N: \"))"
   ]
  },
  {
   "cell_type": "code",
   "execution_count": 21,
   "metadata": {},
   "outputs": [
    {
     "name": "stdout",
     "output_type": "stream",
     "text": [
      "Entre com o número peneiras com massas retidas: 5\n",
      "Entre com a massa retida: 56.88\n",
      "Entre com a massa retida: 81.26\n",
      "Entre com a massa retida: 97.51\n",
      "Entre com a massa retida: 108.34\n",
      "Entre com a massa retida: 111.05\n",
      "[56.88, 81.26, 97.51, 108.34, 111.05]\n"
     ]
    }
   ],
   "source": [
    "    n= int(input(\"Entre com o número peneiras com massas retidas: \"))\n",
    "    mi=[]\n",
    "    for i in range(n):\n",
    "        bateria=float(input('Entre com a massa retida: '))\n",
    "        mi.append(bateria)\n",
    "    print(mi)\n"
   ]
  },
  {
   "cell_type": "code",
   "execution_count": 22,
   "metadata": {},
   "outputs": [],
   "source": [
    "mi=np.array(mi)"
   ]
  },
  {
   "cell_type": "code",
   "execution_count": 23,
   "metadata": {},
   "outputs": [
    {
     "data": {
      "text/plain": [
       "array([27.22, 18.15, 12.1 ,  8.06,  7.06])"
      ]
     },
     "execution_count": 23,
     "metadata": {},
     "output_type": "execute_result"
    }
   ],
   "source": [
    "Qf=(((mh/(1+wh)-mi))/(mh/(1+wh)))*N\n",
    "np.set_printoptions(precision=2)\n",
    "Qf"
   ]
  }
 ],
 "metadata": {
  "kernelspec": {
   "display_name": "Python 3",
   "language": "python",
   "name": "python3"
  },
  "language_info": {
   "codemirror_mode": {
    "name": "ipython",
    "version": 3
   },
   "file_extension": ".py",
   "mimetype": "text/x-python",
   "name": "python",
   "nbconvert_exporter": "python",
   "pygments_lexer": "ipython3",
   "version": "3.7.4"
  }
 },
 "nbformat": 4,
 "nbformat_minor": 4
}
